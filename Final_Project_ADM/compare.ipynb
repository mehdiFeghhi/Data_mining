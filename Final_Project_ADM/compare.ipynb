{
  "nbformat": 4,
  "nbformat_minor": 0,
  "metadata": {
    "colab": {
      "provenance": []
    },
    "kernelspec": {
      "name": "python3",
      "display_name": "Python 3"
    },
    "language_info": {
      "name": "python"
    }
  },
  "cells": [
    {
      "cell_type": "code",
      "source": [
        "import joblib\n",
        "\n",
        "file_path_NU = \"test_res_20.pkl\"\n",
        "file_path_Without_NU = \"test_res_withouth_nsu.pkl\"\n",
        "# Write the content to the file\n",
        "loaded_object_NU = joblib.load(file_path_NU)\n",
        "loaded_object_NU_without_NU = joblib.load(file_path_Without_NU)"
      ],
      "metadata": {
        "id": "AqcroKaurAFG"
      },
      "execution_count": null,
      "outputs": []
    },
    {
      "cell_type": "code",
      "source": [
        "loaded_object_NU"
      ],
      "metadata": {
        "colab": {
          "base_uri": "https://localhost:8080/"
        },
        "id": "DSB2HLWQszSH",
        "outputId": "8ee4a874-952e-4faf-972a-85f554dfafdb"
      },
      "execution_count": null,
      "outputs": [
        {
          "output_type": "execute_result",
          "data": {
            "text/plain": [
              "[90.2,\n",
              " 80.7,\n",
              " 70.875,\n",
              " 63.66,\n",
              " 51.166666666666664,\n",
              " 40.357142857142854,\n",
              " 35.375,\n",
              " 29.944444444444443]"
            ]
          },
          "metadata": {},
          "execution_count": 25
        }
      ]
    },
    {
      "cell_type": "code",
      "source": [
        "loaded_object_NU_without_NU"
      ],
      "metadata": {
        "colab": {
          "base_uri": "https://localhost:8080/"
        },
        "id": "9n8D4DY0s0sp",
        "outputId": "b08d40fb-0878-456a-8db4-58bcafdc5ac0"
      },
      "execution_count": null,
      "outputs": [
        {
          "output_type": "execute_result",
          "data": {
            "text/plain": [
              "[89.05,\n",
              " 80.43333333333334,\n",
              " 69.1,\n",
              " 66.1,\n",
              " 53.54,\n",
              " 33.07142857142857,\n",
              " 30.6,\n",
              " 32.48888888888889]"
            ]
          },
          "metadata": {},
          "execution_count": 26
        }
      ]
    },
    {
      "cell_type": "code",
      "source": [
        "loaded_object_NU_without_NU = [89.05,\n",
        " 80.43333333333334,\n",
        " 69.1,\n",
        " 66.1,\n",
        " 53.54,\n",
        " 33.07142857142857,\n",
        " 30.6,\n",
        " 32.48888888888889]\n"
      ],
      "metadata": {
        "id": "6pihKajMwhqD"
      },
      "execution_count": null,
      "outputs": []
    },
    {
      "cell_type": "code",
      "execution_count": null,
      "metadata": {
        "colab": {
          "base_uri": "https://localhost:8080/",
          "height": 472
        },
        "id": "KZuVVThrq7b1",
        "outputId": "111dcbde-8696-4521-fcba-a3b7f9673116"
      },
      "outputs": [
        {
          "output_type": "display_data",
          "data": {
            "text/plain": [
              "<Figure size 640x480 with 1 Axes>"
            ],
            "image/png": "[encoded data removed]"
          },
          "metadata": {}
        }
      ],
      "source": [
        "import matplotlib.pyplot as plt\n",
        "import numpy as np\n",
        "\n",
        "bar_width = 0.35\n",
        "gap_width = 0.008\n",
        "\n",
        "# List of labels for the x-axis\n",
        "labels = [i for i in range(2, 10)]\n",
        "\n",
        "\n",
        "# Calculate the positions for the bars\n",
        "x_pos1 = np.arange(len(labels))\n",
        "x_pos2 = x_pos1 + bar_width + gap_width\n",
        "\n",
        "# Create the bar graph for the first thing\n",
        "plt.bar(x_pos1, loaded_object_NU_without_NU, width=bar_width, label='No Nu SA')\n",
        "\n",
        "# Create the bar graph for the second thing\n",
        "plt.bar(x_pos2, loaded_object_NU, width=bar_width, label='Nu SA')\n",
        "\n",
        "# Add labels and title\n",
        "plt.xlabel('Categories')\n",
        "plt.ylabel('Values')\n",
        "plt.title('Comparison of Two Things')\n",
        "\n",
        "# Set the x-axis tick positions and labels\n",
        "tick_positions = x_pos1 + bar_width / 2\n",
        "plt.xticks(tick_positions, labels)\n",
        "\n",
        "# Display the legend\n",
        "plt.legend()\n",
        "\n",
        "# Display the graph\n",
        "plt.show()\n"
      ]
    }
  ]
}