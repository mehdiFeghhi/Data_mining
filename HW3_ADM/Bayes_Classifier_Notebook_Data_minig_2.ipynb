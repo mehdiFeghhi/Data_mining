{
  "nbformat": 4,
  "nbformat_minor": 0,
  "metadata": {
    "colab": {
      "provenance": []
    },
    "kernelspec": {
      "name": "python3",
      "display_name": "Python 3"
    },
    "language_info": {
      "name": "python"
    }
  },
  "cells": [
    {
      "cell_type": "code",
      "source": [
        "!pip install pgmpy"
      ],
      "metadata": {
        "colab": {
          "base_uri": "https://localhost:8080/"
        },
        "id": "f9_BjgBPffbI",
        "outputId": "f4f187fd-50c6-4c13-bcf0-4f4af6fc7808"
      },
      "execution_count": null,
      "outputs": [
        {
          "output_type": "stream",
          "name": "stdout",
          "text": [
            "Looking in indexes: https://pypi.org/simple, https://us-python.pkg.dev/colab-wheels/public/simple/\n",
            "Requirement already satisfied: pgmpy in /usr/local/lib/python3.10/dist-packages (0.1.22)\n",
            "Requirement already satisfied: networkx in /usr/local/lib/python3.10/dist-packages (from pgmpy) (3.1)\n",
            "Requirement already satisfied: numpy in /usr/local/lib/python3.10/dist-packages (from pgmpy) (1.22.4)\n",
            "Requirement already satisfied: scipy in /usr/local/lib/python3.10/dist-packages (from pgmpy) (1.10.1)\n",
            "Requirement already satisfied: scikit-learn in /usr/local/lib/python3.10/dist-packages (from pgmpy) (1.2.2)\n",
            "Requirement already satisfied: pandas in /usr/local/lib/python3.10/dist-packages (from pgmpy) (1.5.3)\n",
            "Requirement already satisfied: pyparsing in /usr/local/lib/python3.10/dist-packages (from pgmpy) (3.0.9)\n",
            "Requirement already satisfied: torch in /usr/local/lib/python3.10/dist-packages (from pgmpy) (2.0.1+cu118)\n",
            "Requirement already satisfied: statsmodels in /usr/local/lib/python3.10/dist-packages (from pgmpy) (0.13.5)\n",
            "Requirement already satisfied: tqdm in /usr/local/lib/python3.10/dist-packages (from pgmpy) (4.65.0)\n",
            "Requirement already satisfied: joblib in /usr/local/lib/python3.10/dist-packages (from pgmpy) (1.2.0)\n",
            "Requirement already satisfied: opt-einsum in /usr/local/lib/python3.10/dist-packages (from pgmpy) (3.3.0)\n",
            "Requirement already satisfied: python-dateutil>=2.8.1 in /usr/local/lib/python3.10/dist-packages (from pandas->pgmpy) (2.8.2)\n",
            "Requirement already satisfied: pytz>=2020.1 in /usr/local/lib/python3.10/dist-packages (from pandas->pgmpy) (2022.7.1)\n",
            "Requirement already satisfied: threadpoolctl>=2.0.0 in /usr/local/lib/python3.10/dist-packages (from scikit-learn->pgmpy) (3.1.0)\n",
            "Requirement already satisfied: patsy>=0.5.2 in /usr/local/lib/python3.10/dist-packages (from statsmodels->pgmpy) (0.5.3)\n",
            "Requirement already satisfied: packaging>=21.3 in /usr/local/lib/python3.10/dist-packages (from statsmodels->pgmpy) (23.1)\n",
            "Requirement already satisfied: filelock in /usr/local/lib/python3.10/dist-packages (from torch->pgmpy) (3.12.0)\n",
            "Requirement already satisfied: typing-extensions in /usr/local/lib/python3.10/dist-packages (from torch->pgmpy) (4.5.0)\n",
            "Requirement already satisfied: sympy in /usr/local/lib/python3.10/dist-packages (from torch->pgmpy) (1.11.1)\n",
            "Requirement already satisfied: jinja2 in /usr/local/lib/python3.10/dist-packages (from torch->pgmpy) (3.1.2)\n",
            "Requirement already satisfied: triton==2.0.0 in /usr/local/lib/python3.10/dist-packages (from torch->pgmpy) (2.0.0)\n",
            "Requirement already satisfied: cmake in /usr/local/lib/python3.10/dist-packages (from triton==2.0.0->torch->pgmpy) (3.25.2)\n",
            "Requirement already satisfied: lit in /usr/local/lib/python3.10/dist-packages (from triton==2.0.0->torch->pgmpy) (16.0.5)\n",
            "Requirement already satisfied: six in /usr/local/lib/python3.10/dist-packages (from patsy>=0.5.2->statsmodels->pgmpy) (1.16.0)\n",
            "Requirement already satisfied: MarkupSafe>=2.0 in /usr/local/lib/python3.10/dist-packages (from jinja2->torch->pgmpy) (2.1.2)\n",
            "Requirement already satisfied: mpmath>=0.19 in /usr/local/lib/python3.10/dist-packages (from sympy->torch->pgmpy) (1.3.0)\n"
          ]
        }
      ]
    },
    {
      "cell_type": "code",
      "execution_count": null,
      "metadata": {
        "id": "4ZprWI1aXzBB"
      },
      "outputs": [],
      "source": [
        "from pgmpy.models import BayesianModel\n",
        "from pgmpy.factors.discrete.CPD import TabularCPD"
      ]
    },
    {
      "cell_type": "markdown",
      "source": [
        "در این جا به کمک مدل شبکه بیز درخت یاد شده را با احتمالات آن میسازیم."
      ],
      "metadata": {
        "id": "-HUXO_u0ZyQf"
      }
    },
    {
      "cell_type": "code",
      "source": [
        "# Defining the Bayesian Model Structure\n",
        "model = BayesianModel([('Weather', 'Road'), ('Road', 'Accident')])\n",
        "\n",
        "cpd_weather = TabularCPD(variable='Weather', variable_card=2, values=[[0.7], [0.3]])\n",
        "cpd_road = TabularCPD(variable='Road', variable_card=2,\n",
        "                  values=[[0.9, 0.6], [0.1, 0.4]],\n",
        "                  evidence=['Weather'], evidence_card=[2])\n",
        "cpd_accident = TabularCPD(variable='Accident', variable_card=2,\n",
        "                  values=[[0.95, 0.25], [0.05, 0.75]],\n",
        "                  evidence=['Road'], evidence_card=[2])\n",
        "\n",
        "# Associating the CPDs with the network structure\n",
        "model.add_cpds(cpd_weather, cpd_road, cpd_accident)\n"
      ],
      "metadata": {
        "id": "g44PwXIKeaIk",
        "colab": {
          "base_uri": "https://localhost:8080/"
        },
        "outputId": "8826ee15-b17b-44ee-e60f-138c4b39273d"
      },
      "execution_count": null,
      "outputs": [
        {
          "output_type": "stream",
          "name": "stderr",
          "text": [
            "/usr/local/lib/python3.10/dist-packages/pgmpy/models/BayesianModel.py:8: FutureWarning: BayesianModel has been renamed to BayesianNetwork. Please use BayesianNetwork class, BayesianModel will be removed in future.\n",
            "  warnings.warn(\n"
          ]
        }
      ]
    },
    {
      "cell_type": "markdown",
      "source": [
        "از اینجا به بعد به کمک درخت بیزین و در انتها به کمک مارکف تسک‌های خواسته شده را انجام می‌دهیم ."
      ],
      "metadata": {
        "id": "VJbFj_IZaKId"
      }
    },
    {
      "cell_type": "code",
      "source": [
        "# Task 1: Calculate the probability of a car accident when the weather is sunny and the road\n",
        "# is dry.\n",
        "\n",
        "\n",
        "from pgmpy.inference import VariableElimination\n",
        "\n",
        "# Create an inference object\n",
        "infer = VariableElimination(model)\n",
        "\n",
        "# Compute P(Accident | Road=dry, Weather=sunny)\n",
        "q = infer.query(['Accident'], evidence={'Road':0 , 'Weather': 0})\n",
        "print(q)"
      ],
      "metadata": {
        "colab": {
          "base_uri": "https://localhost:8080/"
        },
        "id": "fwvBrWN9gMGK",
        "outputId": "2a16a264-f171-42b4-a526-3a0614f695be"
      },
      "execution_count": null,
      "outputs": [
        {
          "output_type": "stream",
          "name": "stdout",
          "text": [
            "+-------------+-----------------+\n",
            "| Accident    |   phi(Accident) |\n",
            "+=============+=================+\n",
            "| Accident(0) |          0.9500 |\n",
            "+-------------+-----------------+\n",
            "| Accident(1) |          0.0500 |\n",
            "+-------------+-----------------+\n"
          ]
        },
        {
          "output_type": "stream",
          "name": "stderr",
          "text": [
            "/usr/local/lib/python3.10/dist-packages/pgmpy/models/BayesianModel.py:8: FutureWarning: BayesianModel has been renamed to BayesianNetwork. Please use BayesianNetwork class, BayesianModel will be removed in future.\n",
            "  warnings.warn(\n"
          ]
        }
      ]
    },
    {
      "cell_type": "code",
      "source": [
        "# Task 2: Calculate the probability of a car accident when the weather is rainy and the road\n",
        "# is wet.\n",
        "\n",
        "# Compute P(Accident | Road=wet, Weather=rainy)\n",
        "q = infer.query(['Accident'], evidence={'Road':1 , 'Weather': 1})\n",
        "print(q)"
      ],
      "metadata": {
        "colab": {
          "base_uri": "https://localhost:8080/"
        },
        "id": "kZ85ZsdDuqCz",
        "outputId": "0cbc9b39-6305-481f-e665-f66630a0958f"
      },
      "execution_count": null,
      "outputs": [
        {
          "output_type": "stream",
          "name": "stdout",
          "text": [
            "+-------------+-----------------+\n",
            "| Accident    |   phi(Accident) |\n",
            "+=============+=================+\n",
            "| Accident(0) |          0.2500 |\n",
            "+-------------+-----------------+\n",
            "| Accident(1) |          0.7500 |\n",
            "+-------------+-----------------+\n"
          ]
        }
      ]
    },
    {
      "cell_type": "code",
      "source": [
        "# Task 3: Prove the following conditional probabilities using the chain rule of probability:\n",
        "# P(Accident=yes|Weather=sunny, Road=dry) = 0.0315\n",
        "# P(Accident=yes|Weather=rainy, Road=wet) = 0.135\n",
        "\n",
        "q = infer.query(['Accident'], evidence={'Road':1 , 'Weather': 0})\n",
        "print(q)\n",
        "\n"
      ],
      "metadata": {
        "id": "hIf7lj4Fv47U",
        "colab": {
          "base_uri": "https://localhost:8080/"
        },
        "outputId": "8d34dcec-a936-49b9-bb6a-ae8f9c2a7b68"
      },
      "execution_count": null,
      "outputs": [
        {
          "output_type": "stream",
          "name": "stdout",
          "text": [
            "+-------------+-----------------+\n",
            "| Accident    |   phi(Accident) |\n",
            "+=============+=================+\n",
            "| Accident(0) |          0.2500 |\n",
            "+-------------+-----------------+\n",
            "| Accident(1) |          0.7500 |\n",
            "+-------------+-----------------+\n"
          ]
        }
      ]
    },
    {
      "cell_type": "code",
      "source": [
        "q.values"
      ],
      "metadata": {
        "colab": {
          "base_uri": "https://localhost:8080/"
        },
        "id": "DdUWle-gdWqO",
        "outputId": "2cb54d24-f751-4313-ed25-35e2ae433d57"
      },
      "execution_count": null,
      "outputs": [
        {
          "output_type": "execute_result",
          "data": {
            "text/plain": [
              "array([0.25, 0.75])"
            ]
          },
          "metadata": {},
          "execution_count": 7
        }
      ]
    },
    {
      "cell_type": "code",
      "source": [
        "q1 = infer.query(['Road'], evidence={'Weather': 0})\n",
        "print(q1)"
      ],
      "metadata": {
        "colab": {
          "base_uri": "https://localhost:8080/"
        },
        "id": "xL8ReQG7is6a",
        "outputId": "ff07739b-c36a-4a08-a994-2a39f6e5a491"
      },
      "execution_count": null,
      "outputs": [
        {
          "output_type": "stream",
          "name": "stdout",
          "text": [
            "+---------+-------------+\n",
            "| Road    |   phi(Road) |\n",
            "+=========+=============+\n",
            "| Road(0) |      0.9000 |\n",
            "+---------+-------------+\n",
            "| Road(1) |      0.1000 |\n",
            "+---------+-------------+\n"
          ]
        }
      ]
    },
    {
      "cell_type": "code",
      "source": [
        "# Task 4: Calculate the joint probability distribution of all three variables.\n",
        "import numpy as np\n",
        "\n",
        "# Get all variables in the model\n",
        "variables = ['Weather','Road','Accident']\n",
        "from pgmpy.factors.discrete import JointProbabilityDistribution\n",
        "\n",
        "weather_0 = 0.7\n",
        "weather_1 = 0.3\n",
        "list_res = []\n",
        "#Weather(0) , Road(0) , Accident(0)\n",
        "accident_0 = infer.query(['Accident'], evidence={'Road':0}).values[0]\n",
        "road_0 = infer.query(['Road'], evidence={'Weather': 0}).values[0]\n",
        "res_0 = accident_0 * road_0 * weather_0\n",
        "list_res.append(res_0)\n",
        "\n",
        "#Weather(0) , Road(0) , Accident(1)\n",
        "accident_1 = infer.query(['Accident'], evidence={'Road':0}).values[1]\n",
        "road_0 = infer.query(['Road'], evidence={'Weather': 0}).values[0]\n",
        "res_1 = accident_1 * road_0 * weather_0\n",
        "list_res.append(res_1)\n",
        "\n",
        "#Weather(0) , Road(1) , Accident(0)\n",
        "accident_0 = infer.query(['Accident'], evidence={'Road':1 }).values[0]\n",
        "road_1 = infer.query(['Road'], evidence={'Weather': 0}).values[1]\n",
        "res_2 = accident_0 * road_1 * weather_0\n",
        "list_res.append(res_2)\n",
        "\n",
        "\n",
        "#Weather(0) , Road(1) , Accident(1)\n",
        "accident_1 = infer.query(['Accident'], evidence={'Road':1}).values[1]\n",
        "road_1 = infer.query(['Road'], evidence={'Weather': 0}).values[1]\n",
        "res_3 = accident_1 * road_1 * weather_1\n",
        "list_res.append(res_3)\n",
        "\n",
        "\n",
        "\n",
        "\n",
        "#Weather(1) , Road(0) , Accident(0)\n",
        "accident_0 = infer.query(['Accident'], evidence={'Road':0}).values[0]\n",
        "road_0 = infer.query(['Road'], evidence={'Weather': 1}).values[0]\n",
        "res_4 = accident_0 * road_0 * weather_1\n",
        "list_res.append(res_4)\n",
        "\n",
        "#Weather(1) , Road(0) , Accident(1)\n",
        "accident_1 = infer.query(['Accident'], evidence={'Road':0 }).values[1]\n",
        "road_0 = infer.query(['Road'], evidence={'Weather': 1}).values[0]\n",
        "res_5 = accident_1 * road_0 * weather_1\n",
        "list_res.append(res_5)\n",
        "\n",
        "#Weather(1) , Road(1) , Accident(0)\n",
        "accident_0 = infer.query(['Accident'], evidence={'Road':1 }).values[0]\n",
        "road_1 = infer.query(['Road'], evidence={'Weather': 1}).values[1]\n",
        "res_6 = accident_0 * road_1 * weather_1\n",
        "list_res.append(res_6)\n",
        "\n",
        "\n",
        "#Weather(1) , Road(1) , Accident(1)\n",
        "accident_1 = infer.query(['Accident'], evidence={'Road':1}).values[1]\n",
        "road_1 = infer.query(['Road'], evidence={'Weather': 1}).values[1]\n",
        "res_7 = accident_1 * road_1 * weather_1\n",
        "list_res.append(res_7)\n",
        "\n",
        "\n",
        "\n",
        "\n",
        "print(list_res)\n",
        "\n",
        "# create the Joint Probability Distribution object\n",
        "joint_prob = JointProbabilityDistribution(variables, [2, 2, 2],list_res/np.sum(list_res))\n",
        "\n",
        "# print the distribution\n",
        "print(joint_prob)\n",
        "\n",
        "# [0.5985, 0.03150000000000001, 0.017499999999999998, 0.0225, 0.17099999999999999, 0.008999999999999998, 0.03, 0.09000000000000001]\n"
      ],
      "metadata": {
        "colab": {
          "base_uri": "https://localhost:8080/"
        },
        "id": "CPN0XNdPui8H",
        "outputId": "25e228b6-c789-4c9b-fc1c-b2ae23d00b5c"
      },
      "execution_count": null,
      "outputs": [
        {
          "output_type": "stream",
          "name": "stdout",
          "text": [
            "[0.5985, 0.031500000000000014, 0.017499999999999998, 0.0225, 0.171, 0.009000000000000003, 0.03, 0.09000000000000001]\n",
            "+------------+---------+-------------+----------------------------+\n",
            "| Weather    | Road    | Accident    |   P(Weather,Road,Accident) |\n",
            "+============+=========+=============+============================+\n",
            "| Weather(0) | Road(0) | Accident(0) |                     0.6170 |\n",
            "+------------+---------+-------------+----------------------------+\n",
            "| Weather(0) | Road(0) | Accident(1) |                     0.0325 |\n",
            "+------------+---------+-------------+----------------------------+\n",
            "| Weather(0) | Road(1) | Accident(0) |                     0.0180 |\n",
            "+------------+---------+-------------+----------------------------+\n",
            "| Weather(0) | Road(1) | Accident(1) |                     0.0232 |\n",
            "+------------+---------+-------------+----------------------------+\n",
            "| Weather(1) | Road(0) | Accident(0) |                     0.1763 |\n",
            "+------------+---------+-------------+----------------------------+\n",
            "| Weather(1) | Road(0) | Accident(1) |                     0.0093 |\n",
            "+------------+---------+-------------+----------------------------+\n",
            "| Weather(1) | Road(1) | Accident(0) |                     0.0309 |\n",
            "+------------+---------+-------------+----------------------------+\n",
            "| Weather(1) | Road(1) | Accident(1) |                     0.0928 |\n",
            "+------------+---------+-------------+----------------------------+\n"
          ]
        }
      ]
    },
    {
      "cell_type": "code",
      "source": [
        "import copy\n",
        "#Task 5: Calculate the marginal probability distribution of each variable.\n",
        "\n",
        "# Marginal probability distribution of Weather variable\n",
        "prob_1 = copy.copy(joint_prob)\n",
        "prob_1.marginal_distribution(['Weather'])\n",
        "print(prob_1)\n"
      ],
      "metadata": {
        "colab": {
          "base_uri": "https://localhost:8080/"
        },
        "id": "RuVwA9o-3Fnv",
        "outputId": "a6eeb9f7-a747-4277-e40b-fbba9a41def4"
      },
      "execution_count": null,
      "outputs": [
        {
          "output_type": "stream",
          "name": "stdout",
          "text": [
            "+------------+--------------+\n",
            "| Weather    |   P(Weather) |\n",
            "+============+==============+\n",
            "| Weather(0) |       0.6907 |\n",
            "+------------+--------------+\n",
            "| Weather(1) |       0.3093 |\n",
            "+------------+--------------+\n"
          ]
        }
      ]
    },
    {
      "cell_type": "code",
      "source": [
        "\n",
        "# Marginal probability distribution of Road variable\n",
        "prob_2 = copy.copy(joint_prob)\n",
        "prob_2.marginal_distribution(['Road'])\n",
        "print(prob_2)"
      ],
      "metadata": {
        "colab": {
          "base_uri": "https://localhost:8080/"
        },
        "id": "8RPhhKHqqtgF",
        "outputId": "d38f80a9-3a34-4a19-df15-a724526d8f26"
      },
      "execution_count": null,
      "outputs": [
        {
          "output_type": "stream",
          "name": "stdout",
          "text": [
            "+---------+-----------+\n",
            "| Road    |   P(Road) |\n",
            "+=========+===========+\n",
            "| Road(0) |    0.8351 |\n",
            "+---------+-----------+\n",
            "| Road(1) |    0.1649 |\n",
            "+---------+-----------+\n"
          ]
        }
      ]
    },
    {
      "cell_type": "code",
      "source": [
        "\n",
        "# Marginal probability distribution of Accident variable\n",
        "prob_3 = copy.copy(joint_prob)\n",
        "prob_3.marginal_distribution(['Accident'])\n",
        "print(prob_3)"
      ],
      "metadata": {
        "colab": {
          "base_uri": "https://localhost:8080/"
        },
        "id": "8FcanZC4qxjP",
        "outputId": "39b83772-3bc6-451e-a99f-3b5624279941"
      },
      "execution_count": null,
      "outputs": [
        {
          "output_type": "stream",
          "name": "stdout",
          "text": [
            "+-------------+---------------+\n",
            "| Accident    |   P(Accident) |\n",
            "+=============+===============+\n",
            "| Accident(0) |        0.8423 |\n",
            "+-------------+---------------+\n",
            "| Accident(1) |        0.1577 |\n",
            "+-------------+---------------+\n"
          ]
        }
      ]
    },
    {
      "cell_type": "code",
      "source": [
        "# Task 6: Calculate the conditional probability distribution of Accident given Weather=rainy.\n",
        "\n",
        "q = infer.query(['Accident'], evidence={'Weather': 1})\n",
        "print(q)\n"
      ],
      "metadata": {
        "id": "nE8kFvO84b4e",
        "colab": {
          "base_uri": "https://localhost:8080/"
        },
        "outputId": "bc67bd1e-90b3-4230-eafc-038bcfed2f42"
      },
      "execution_count": null,
      "outputs": [
        {
          "output_type": "stream",
          "name": "stdout",
          "text": [
            "+-------------+-----------------+\n",
            "| Accident    |   phi(Accident) |\n",
            "+=============+=================+\n",
            "| Accident(0) |          0.6700 |\n",
            "+-------------+-----------------+\n",
            "| Accident(1) |          0.3300 |\n",
            "+-------------+-----------------+\n"
          ]
        }
      ]
    },
    {
      "cell_type": "code",
      "source": [
        "# Task 7: Using the Markov Blanket of Accident, calculate the conditional probability\n",
        "from pgmpy.factors.discrete import TabularCPD\n",
        "from pgmpy.models import MarkovNetwork\n",
        "\n",
        "# define the variables\n",
        "weather = ['sunny', 'rainy']\n",
        "road = ['dry', 'wet']\n",
        "accident = ['no', 'yes']\n",
        "\n",
        "# create an empty model\n",
        "model = MarkovNetwork()\n",
        "\n",
        "# add the variables to the model\n",
        "model.add_nodes_from(['Weather', 'Road', 'Accident'])\n",
        "\n",
        "# add factors for the marginal distributions\n",
        "cpd_weather = TabularCPD(variable='Weather', variable_card=2, values=[[0.7], [0.3]])\n",
        "cpd_road = TabularCPD(variable='Road', variable_card=2, values=[[0.5], [0.5]])\n",
        "cpd_accident = TabularCPD(variable='Accident', variable_card=2, values=[[0.5], [0.5]])\n",
        "\n",
        "# add factors for the conditional probabilities\n",
        "cpd_road_weather = TabularCPD(variable='Road', variable_card=2, values=[[0.9, 0.1], [0.6, 0.4]], evidence=['Weather'], evidence_card=[2])\n",
        "cpd_accident_road = TabularCPD(variable='Accident', variable_card=2, values=[[0.95, 0.05], [0.25, 0.75]], evidence=['Road'], evidence_card=[2])\n",
        "\n",
        "# add the factors to the model\n",
        "model.add_factors(cpd_weather, cpd_road, cpd_accident, cpd_road_weather, cpd_accident_road)\n",
        "\n",
        "# add the edges between the variables\n",
        "model.add_edges_from([('Weather', 'Road'), ('Road', 'Accident')])\n",
        "\n",
        "# check the model for validity\n",
        "model.check_model()\n",
        "\n"
      ],
      "metadata": {
        "colab": {
          "base_uri": "https://localhost:8080/"
        },
        "id": "y9JRuQaKuzk4",
        "outputId": "e00b943c-00e7-47c3-8a6a-09ff7dec25c7"
      },
      "execution_count": null,
      "outputs": [
        {
          "output_type": "execute_result",
          "data": {
            "text/plain": [
              "True"
            ]
          },
          "metadata": {},
          "execution_count": 37
        }
      ]
    },
    {
      "cell_type": "code",
      "source": [
        "print(model)"
      ],
      "metadata": {
        "colab": {
          "base_uri": "https://localhost:8080/"
        },
        "id": "-7V6Oa8kz0kY",
        "outputId": "d3e6270f-1dde-451d-b016-8a145214eedb"
      },
      "execution_count": null,
      "outputs": [
        {
          "output_type": "stream",
          "name": "stdout",
          "text": [
            "MarkovNetwork with 3 nodes and 2 edges\n"
          ]
        }
      ]
    },
    {
      "cell_type": "code",
      "source": [
        "# distribution of Accident given Weather=sunny and Road=wet.\n",
        "\n",
        "from pgmpy.inference import VariableElimination\n",
        "\n",
        "# Create the inference engine\n",
        "infer = VariableElimination(model)\n",
        "\n",
        "# Compute the CPD\n",
        "q = infer.query(['Accident'], evidence={'Weather': 0, 'Road': 1})\n",
        "\n",
        "# Print the result\n",
        "print(q)\n"
      ],
      "metadata": {
        "colab": {
          "base_uri": "https://localhost:8080/"
        },
        "id": "kCuNL-Thyd-C",
        "outputId": "ddc520b6-ef13-4525-8cdb-0f10945cefc9"
      },
      "execution_count": null,
      "outputs": [
        {
          "output_type": "stream",
          "name": "stdout",
          "text": [
            "+-------------+-----------------+\n",
            "| Accident    |   phi(Accident) |\n",
            "+=============+=================+\n",
            "| Accident(0) |          0.0053 |\n",
            "+-------------+-----------------+\n",
            "| Accident(1) |          0.0788 |\n",
            "+-------------+-----------------+\n"
          ]
        }
      ]
    },
    {
      "cell_type": "code",
      "source": [
        "# Task 8: Using the network structure, explain why knowing the value of Weather makes\n",
        "# Road and Accident conditionally independent\n",
        "\n",
        "\n",
        "\n",
        "\n",
        "\n",
        "\n",
        "\n",
        "\n",
        "\n"
      ],
      "metadata": {
        "id": "GMQhtjOJvD3F"
      },
      "execution_count": null,
      "outputs": []
    },
    {
      "cell_type": "markdown",
      "source": [
        "در این مدل، متغیر جاده فرزند متغیر آب و هوا است و والد متغیر تصادف است .بدان مغنی است که وضعیت متغیر آب و هوا بر وضعیت متغیر جاده تاثیر می‌گذارد که به نوبه خود بر وضعیت متغیر تصادف تاثیر می‌گذارد . اگر مقدار آب‌وهوا را بدانیم، اطلاعاتی در مورد وضعیت متغیر مسیر ارائه می‌دهد . به عنوان مثال، اگر آب‌وهوا بارانی است، احتمال مرطوب بودن جاده بیشتر از زمانی است که هوا آفتابی باشد. این بدان معنا است که اگر متغیر آب و هوا را از قبل بدانیم ، یافتن وضعیت متغیر مسیر اطلاغات کمتری در مورد وضعیت متغیر تصادف ارائه می‌دهد . بنابراین،دانستن وضعیت آب‌وهوا، جاده و تصادف را به صورت شرطی مستقل می‌کند .\n",
        "به عبارت دیگر، تاثیر آب‌وهوا بر وضعیت جاده، اطلاغات کافی را در مورد وضعیت جاده فراهم می‌کند و تاثیر تصادف در جاده را در زمینه تعیین وضعیت جاده با توجه به وضعیت آب‌وهوا، اضافه می‌کند .بنابرین، دو متغیر باتوجه به آب‌وهوا به صورت شرطی مستقل می‌شوند. \n",
        "\n",
        "\n"
      ],
      "metadata": {
        "id": "hE5-l6K-3FMX"
      }
    },
    {
      "cell_type": "code",
      "source": [],
      "metadata": {
        "id": "YMqUUkK-roLv"
      },
      "execution_count": null,
      "outputs": []
    }
  ]
}